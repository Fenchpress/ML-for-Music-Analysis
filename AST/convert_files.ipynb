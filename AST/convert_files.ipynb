{
 "cells": [
  {
   "cell_type": "code",
   "execution_count": 5,
   "metadata": {},
   "outputs": [
    {
     "name": "stdout",
     "output_type": "stream",
     "text": [
      "Looking in indexes: https://artifactory.vertigo.stitchfix.com/artifactory/api/pypi/stitchpy/simple\n",
      "Collecting pydub\n",
      "  Downloading https://artifactory.vertigo.stitchfix.com/artifactory/api/pypi/stitchpy/packages/packages/a6/53/d78dc063216e62fc55f6b2eebb447f6a4b0a59f55c8406376f76bf959b08/pydub-0.25.1-py2.py3-none-any.whl (32 kB)\n",
      "Installing collected packages: pydub\n",
      "Successfully installed pydub-0.25.1\n",
      "\u001b[33mWARNING: You are using pip version 20.3.3; however, version 22.2 is available.\n",
      "You should consider upgrading via the '/Users/rezasohrabi/.pyenv/versions/3.7.1/envs/env1/bin/python3.7 -m pip install --upgrade pip' command.\u001b[0m\n"
     ]
    }
   ],
   "source": [
    "!pip install pydub"
   ]
  },
  {
   "cell_type": "code",
   "execution_count": 3,
   "metadata": {},
   "outputs": [],
   "source": [
    "from pydub import AudioSegment"
   ]
  },
  {
   "cell_type": "code",
   "execution_count": 6,
   "metadata": {},
   "outputs": [],
   "source": [
    "import os"
   ]
  },
  {
   "cell_type": "code",
   "execution_count": 32,
   "metadata": {},
   "outputs": [
    {
     "name": "stdout",
     "output_type": "stream",
     "text": [
      "1327.mp3\n",
      "1126.mp3\n",
      ".ipynb_checkpoints\n",
      "1227.mp3\n"
     ]
    }
   ],
   "source": [
    "for file in os.listdir(\"data/\"):\n",
    "    try:\n",
    "        sound = AudioSegment.from_mp3(f\"data/{file}\").set_frame_rate(16000)\n",
    "        sound.export(f\"data_ogg/{file.split('.')[0]}.ogg\", format=\"ogg\", bitrate=\"64k\")\n",
    "    except:\n",
    "        print(file)"
   ]
  },
  {
   "cell_type": "code",
   "execution_count": null,
   "metadata": {},
   "outputs": [],
   "source": []
  }
 ],
 "metadata": {
  "kernelspec": {
   "display_name": "Python 3",
   "language": "python",
   "name": "python3"
  },
  "language_info": {
   "codemirror_mode": {
    "name": "ipython",
    "version": 3
   },
   "file_extension": ".py",
   "mimetype": "text/x-python",
   "name": "python",
   "nbconvert_exporter": "python",
   "pygments_lexer": "ipython3",
   "version": "3.7.1"
  }
 },
 "nbformat": 4,
 "nbformat_minor": 4
}
