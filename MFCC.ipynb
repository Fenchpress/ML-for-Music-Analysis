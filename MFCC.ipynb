{
 "cells": [
  {
   "cell_type": "markdown",
   "id": "1c6e33d2",
   "metadata": {},
   "source": [
    "# ML for Music Analysis"
   ]
  },
  {
   "cell_type": "code",
   "execution_count": 2,
   "id": "d515d5d4",
   "metadata": {},
   "outputs": [],
   "source": [
    "import librosa\n",
    "\n",
    "\n",
    "def get_mfcc(file_path):\n",
    "    \"\"\"\n",
    "    Given the path to the audio file return the MFCC of the audio\n",
    "    :param file_path: string path\n",
    "    :return: a list of lists containing the MFCC data\n",
    "    \"\"\"\n",
    "    y, sr = librosa.load(file_path, None)\n",
    "    return librosa.feature.mfcc(y=y, sr=sr)"
   ]
  },
  {
   "cell_type": "code",
   "execution_count": null,
   "id": "ea517b39",
   "metadata": {},
   "outputs": [],
   "source": []
  }
 ],
 "metadata": {
  "kernelspec": {
   "display_name": "Python 3",
   "language": "python",
   "name": "python3"
  },
  "language_info": {
   "codemirror_mode": {
    "name": "ipython",
    "version": 3
   },
   "file_extension": ".py",
   "mimetype": "text/x-python",
   "name": "python",
   "nbconvert_exporter": "python",
   "pygments_lexer": "ipython3",
   "version": "3.7.9"
  }
 },
 "nbformat": 4,
 "nbformat_minor": 5
}
