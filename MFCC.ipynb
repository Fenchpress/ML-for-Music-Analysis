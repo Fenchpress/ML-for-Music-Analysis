{
 "cells": [
  {
   "cell_type": "markdown",
   "id": "37eef06a",
   "metadata": {},
   "source": [
    "# ML for Music Analysis"
   ]
  },
  {
   "cell_type": "code",
   "execution_count": 2,
   "id": "7d07902e",
   "metadata": {},
   "outputs": [],
   "source": [
    "import librosa\n",
    "\n",
    "\n",
    "def get_mfcc(file_path):\n",
    "    \"\"\"\n",
    "    Given the path to the audio file return the MFCC of the audio\n",
    "    :param file_path: string path\n",
    "    :return: a list of lists containing the MFCC data\n",
    "    \"\"\"\n",
    "    y, sr = librosa.load(file_path, None)\n",
    "    return librosa.feature.mfcc(y=y, sr=sr)"
   ]
  },
  {
   "cell_type": "code",
   "execution_count": 5,
   "id": "562b02a9",
   "metadata": {},
   "outputs": [
    {
     "name": "stderr",
     "output_type": "stream",
     "text": [
      "/Library/Frameworks/Python.framework/Versions/3.7/lib/python3.7/site-packages/ipykernel_launcher.py:10: FutureWarning: Pass sr=None as keyword args. From version 0.10 passing these as positional arguments will result in an error\n",
      "  # Remove the CWD from sys.path while we load stuff.\n"
     ]
    }
   ],
   "source": [
    "test_mfcc = get_mfcc(\"ImperialMarch60.wav\")"
   ]
  },
  {
   "cell_type": "code",
   "execution_count": 11,
   "id": "356dc53a",
   "metadata": {},
   "outputs": [
    {
     "data": {
      "text/plain": [
       "(20, 2584)"
      ]
     },
     "execution_count": 11,
     "metadata": {},
     "output_type": "execute_result"
    }
   ],
   "source": [
    "test_mfcc.shape"
   ]
  },
  {
   "cell_type": "code",
   "execution_count": 10,
   "id": "13728d10",
   "metadata": {},
   "outputs": [
    {
     "data": {
      "text/plain": [
       "51680"
      ]
     },
     "execution_count": 10,
     "metadata": {},
     "output_type": "execute_result"
    }
   ],
   "source": [
    "test_mfcc.size"
   ]
  },
  {
   "cell_type": "code",
   "execution_count": null,
   "id": "5d6ec0e2",
   "metadata": {},
   "outputs": [],
   "source": []
  }
 ],
 "metadata": {
  "kernelspec": {
   "display_name": "Python 3",
   "language": "python",
   "name": "python3"
  },
  "language_info": {
   "codemirror_mode": {
    "name": "ipython",
    "version": 3
   },
   "file_extension": ".py",
   "mimetype": "text/x-python",
   "name": "python",
   "nbconvert_exporter": "python",
   "pygments_lexer": "ipython3",
   "version": "3.7.9"
  }
 },
 "nbformat": 4,
 "nbformat_minor": 5
}
