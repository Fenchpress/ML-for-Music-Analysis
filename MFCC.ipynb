{
 "cells": [
  {
   "cell_type": "markdown",
   "id": "66980a45",
   "metadata": {},
   "source": [
    "# ML for Music Analysis"
   ]
  },
  {
   "cell_type": "code",
   "execution_count": 2,
   "id": "20189742",
   "metadata": {},
   "outputs": [],
   "source": [
    "import librosa\n",
    "\n",
    "\n",
    "def get_mfcc(file_path):\n",
    "    \"\"\"\n",
    "    Given the path to the audio file return the MFCC of the audio\n",
    "    :param file_path: string path\n",
    "    :return: a list of lists containing the MFCC data\n",
    "    \"\"\"\n",
    "    y, sr = librosa.load(file_path, None)\n",
    "    return librosa.feature.mfcc(y=y, sr=sr)"
   ]
  },
  {
   "cell_type": "markdown",
   "id": "3f1d5058",
   "metadata": {},
   "source": [
    "### Testing the function with a music"
   ]
  },
  {
   "cell_type": "code",
   "execution_count": 5,
   "id": "31d8bfc0",
   "metadata": {},
   "outputs": [
    {
     "name": "stderr",
     "output_type": "stream",
     "text": [
      "/Library/Frameworks/Python.framework/Versions/3.7/lib/python3.7/site-packages/ipykernel_launcher.py:10: FutureWarning: Pass sr=None as keyword args. From version 0.10 passing these as positional arguments will result in an error\n",
      "  # Remove the CWD from sys.path while we load stuff.\n"
     ]
    }
   ],
   "source": [
    "test_mfcc = get_mfcc(\"ImperialMarch60.wav\")"
   ]
  },
  {
   "cell_type": "code",
   "execution_count": 12,
   "id": "dc9e54f2",
   "metadata": {},
   "outputs": [
    {
     "data": {
      "text/plain": [
       "array([[-5.8397711e+02, -5.8182330e+02, -5.8194391e+02, ...,\n",
       "        -3.8027869e+02, -3.8912073e+02, -3.9562219e+02],\n",
       "       [ 5.2084279e+00,  8.1875582e+00,  8.0080500e+00, ...,\n",
       "         1.3641995e+02,  1.3420198e+02,  1.2909521e+02],\n",
       "       [ 5.1931534e+00,  8.0845499e+00,  7.9450846e+00, ...,\n",
       "        -1.5321053e+01, -1.4700988e+01, -1.7241497e+01],\n",
       "       ...,\n",
       "       [ 3.9588578e+00,  5.2760687e+00,  4.9172173e+00, ...,\n",
       "        -7.9437132e+00, -5.5036983e+00,  1.5631807e-01],\n",
       "       [ 3.8337159e+00,  5.0671401e+00,  4.5343189e+00, ...,\n",
       "        -4.4089856e+00, -2.6234231e+00,  2.2902029e+00],\n",
       "       [ 3.7069526e+00,  4.9134979e+00,  4.2791052e+00, ...,\n",
       "         1.8409295e+00,  5.5532107e+00,  5.0142932e+00]], dtype=float32)"
      ]
     },
     "execution_count": 12,
     "metadata": {},
     "output_type": "execute_result"
    }
   ],
   "source": [
    "test_mfcc"
   ]
  },
  {
   "cell_type": "code",
   "execution_count": 13,
   "id": "1f4c8f61",
   "metadata": {},
   "outputs": [
    {
     "data": {
      "text/plain": [
       "(20, 2584)"
      ]
     },
     "execution_count": 13,
     "metadata": {},
     "output_type": "execute_result"
    }
   ],
   "source": [
    "test_mfcc.shape"
   ]
  },
  {
   "cell_type": "code",
   "execution_count": null,
   "id": "59024431",
   "metadata": {},
   "outputs": [],
   "source": []
  }
 ],
 "metadata": {
  "kernelspec": {
   "display_name": "Python 3",
   "language": "python",
   "name": "python3"
  },
  "language_info": {
   "codemirror_mode": {
    "name": "ipython",
    "version": 3
   },
   "file_extension": ".py",
   "mimetype": "text/x-python",
   "name": "python",
   "nbconvert_exporter": "python",
   "pygments_lexer": "ipython3",
   "version": "3.7.9"
  }
 },
 "nbformat": 4,
 "nbformat_minor": 5
}
